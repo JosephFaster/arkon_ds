{
 "cells": [
  {
   "cell_type": "code",
   "execution_count": 7,
   "metadata": {},
   "outputs": [
    {
     "name": "stdout",
     "output_type": "stream",
     "text": [
      "✅ Archivo encontrado en: C:\\Users\\candy\\Downloads\\arkon_ds\\data\\df_clean.feather\n"
     ]
    },
    {
     "ename": "FileNotFoundError",
     "evalue": "❌ No se encontró el archivo data en la estructura de directorios.",
     "output_type": "error",
     "traceback": [
      "\u001b[1;31m---------------------------------------------------------------------------\u001b[0m",
      "\u001b[1;31mFileNotFoundError\u001b[0m                         Traceback (most recent call last)",
      "Cell \u001b[1;32mIn[7], line 77\u001b[0m\n\u001b[0;32m     74\u001b[0m X_train, X_test, y_train, y_test \u001b[38;5;241m=\u001b[39m train_test_split(X, y, test_size\u001b[38;5;241m=\u001b[39m\u001b[38;5;241m0.2\u001b[39m, random_state\u001b[38;5;241m=\u001b[39m\u001b[38;5;241m42\u001b[39m, stratify\u001b[38;5;241m=\u001b[39my)\n\u001b[0;32m     76\u001b[0m \u001b[38;5;66;03m# Buscar la ruta correcta para guardar los archivos\u001b[39;00m\n\u001b[1;32m---> 77\u001b[0m train_data_path \u001b[38;5;241m=\u001b[39m \u001b[43mfind_file\u001b[49m\u001b[43m(\u001b[49m\u001b[38;5;124;43m\"\u001b[39;49m\u001b[38;5;124;43mdata\u001b[39;49m\u001b[38;5;124;43m\"\u001b[39;49m\u001b[43m)\u001b[49m \u001b[38;5;241m/\u001b[39m \u001b[38;5;124m\"\u001b[39m\u001b[38;5;124mtrain.feather\u001b[39m\u001b[38;5;124m\"\u001b[39m\n\u001b[0;32m     78\u001b[0m test_data_path \u001b[38;5;241m=\u001b[39m find_file(\u001b[38;5;124m\"\u001b[39m\u001b[38;5;124mdata\u001b[39m\u001b[38;5;124m\"\u001b[39m) \u001b[38;5;241m/\u001b[39m \u001b[38;5;124m\"\u001b[39m\u001b[38;5;124mtest.feather\u001b[39m\u001b[38;5;124m\"\u001b[39m\n\u001b[0;32m     80\u001b[0m train_data \u001b[38;5;241m=\u001b[39m pd\u001b[38;5;241m.\u001b[39mconcat([X_train, y_train], axis\u001b[38;5;241m=\u001b[39m\u001b[38;5;241m1\u001b[39m)\n",
      "Cell \u001b[1;32mIn[7], line 21\u001b[0m, in \u001b[0;36mfind_file\u001b[1;34m(filename, search_dir)\u001b[0m\n\u001b[0;32m     18\u001b[0m     \u001b[38;5;28;01mif\u001b[39;00m possible_path\u001b[38;5;241m.\u001b[39mexists():\n\u001b[0;32m     19\u001b[0m         \u001b[38;5;28;01mreturn\u001b[39;00m possible_path\u001b[38;5;241m.\u001b[39mresolve()  \u001b[38;5;66;03m# Retorna la ruta absoluta\u001b[39;00m\n\u001b[1;32m---> 21\u001b[0m \u001b[38;5;28;01mraise\u001b[39;00m \u001b[38;5;167;01mFileNotFoundError\u001b[39;00m(\u001b[38;5;124mf\u001b[39m\u001b[38;5;124m\"\u001b[39m\u001b[38;5;124m❌ No se encontró el archivo \u001b[39m\u001b[38;5;132;01m{\u001b[39;00mfilename\u001b[38;5;132;01m}\u001b[39;00m\u001b[38;5;124m en la estructura de directorios.\u001b[39m\u001b[38;5;124m\"\u001b[39m)\n",
      "\u001b[1;31mFileNotFoundError\u001b[0m: ❌ No se encontró el archivo data en la estructura de directorios."
     ]
    }
   ],
   "source": [
    "import pandas as pd\n",
    "import numpy as np\n",
    "from pathlib import Path\n",
    "from sklearn.model_selection import train_test_split\n",
    "from sklearn.preprocessing import LabelEncoder\n",
    "\n",
    "# 🔹 Función para buscar archivos en la jerarquía de carpetas\n",
    "def find_file(filename, search_dir=None):\n",
    "    \"\"\"\n",
    "    Busca un archivo en la jerarquía de carpetas hacia arriba hasta encontrarlo.\n",
    "    Si search_dir no se especifica, comienza desde el directorio actual.\n",
    "    \"\"\"\n",
    "    search_dir = Path(search_dir) if search_dir else Path.cwd()\n",
    "    \n",
    "    # Buscar en la carpeta actual y subir niveles hasta encontrar el archivo\n",
    "    for parent in [search_dir] + list(search_dir.parents):\n",
    "        possible_path = parent / \"data\" / filename\n",
    "        if possible_path.exists():\n",
    "            return possible_path.resolve()  # Retorna la ruta absoluta\n",
    "\n",
    "    raise FileNotFoundError(f\"❌ No se encontró el archivo {filename} en la estructura de directorios.\")\n",
    "\n",
    "# 🔹 Función de ingeniería de características\n",
    "def feature_engineering(df, is_test=False):\n",
    "    \"\"\"Genera características adicionales para el modelo.\"\"\"\n",
    "    \n",
    "    # Extraer día de la semana y hora del viaje\n",
    "    df[\"day_of_week\"] = df[\"start_time\"].dt.dayofweek  # Lunes=0, Domingo=6\n",
    "    df[\"hour\"] = df[\"start_time\"].dt.hour  # Hora del día\n",
    "    \n",
    "    # Marcar si es fin de semana\n",
    "    df[\"is_weekend\"] = df[\"day_of_week\"].isin([5, 6]).astype(int)\n",
    "    \n",
    "    # Categorizar duración del viaje\n",
    "    df[\"duration_category\"] = pd.cut(df[\"duration\"],\n",
    "                                     bins=[0, 5, 15, 30, 60, 120, 360],\n",
    "                                     labels=[\"0-5 min\", \"5-15 min\", \"15-30 min\", \"30-60 min\", \"60-120 min\", \"120+ min\"])\n",
    "    \n",
    "    # Eliminar columnas irrelevantes solo si existen\n",
    "    cols_to_drop = [\"bike_id\", \"start_time\", \"end_time\"]\n",
    "    df.drop(columns=[col for col in cols_to_drop if col in df.columns], inplace=True)\n",
    "\n",
    "    # Convertir variables categóricas a numéricas\n",
    "    categorical_cols = [\"trip_route_category\", \"start_station\", \"end_station\", \"duration_category\"]\n",
    "\n",
    "    if not is_test:\n",
    "        categorical_cols.append(\"passholder_type\")  # Solo en entrenamiento\n",
    "\n",
    "    label_encoders = {}  # Para almacenar los codificadores de etiquetas\n",
    "\n",
    "    for col in categorical_cols:\n",
    "        encoder = LabelEncoder()\n",
    "        df[col] = encoder.fit_transform(df[col].astype(str))\n",
    "        label_encoders[col] = encoder  # Guardamos los encoders para después\n",
    "\n",
    "    return df, label_encoders\n",
    "\n",
    "# 🔹 Procesar el dataset de entrenamiento\n",
    "try:\n",
    "    df_clean_path = find_file(\"df_clean.feather\")\n",
    "    print(f\"✅ Archivo encontrado en: {df_clean_path}\")\n",
    "    df_clean = pd.read_feather(df_clean_path)\n",
    "except FileNotFoundError as e:\n",
    "    print(e)\n",
    "    exit(1)\n",
    "\n",
    "df_features, label_encoders = feature_engineering(df_clean)\n",
    "\n",
    "# Separar variables predictoras (X) y variable objetivo (y)\n",
    "X = df_features.drop(columns=[\"passholder_type\"])\n",
    "y = df_features[\"passholder_type\"]\n",
    "\n",
    "# Dividir en train y test\n",
    "X_train, X_test, y_train, y_test = train_test_split(X, y, test_size=0.2, random_state=42, stratify=y)\n",
    "\n",
    "# Buscar la ruta correcta para guardar los archivos\n",
    "train_data_path = find_file(\"data\") / \"train.feather\"\n",
    "test_data_path = find_file(\"data\") / \"test.feather\"\n",
    "\n",
    "train_data = pd.concat([X_train, y_train], axis=1)\n",
    "test_data = pd.concat([X_test, y_test], axis=1)\n",
    "\n",
    "train_data.to_feather(train_data_path)\n",
    "test_data.to_feather(test_data_path)\n",
    "\n",
    "print(f\"✅ Feature engineering completado. Archivos guardados en:\\n - {train_data_path}\\n - {test_data_path}\")\n",
    "\n",
    "# 🔹 Procesar el dataset de prueba (`df_clean_test.feather`)\n",
    "try:\n",
    "    df_test_path = find_file(\"df_clean_test.feather\")\n",
    "    print(f\"✅ Archivo de test encontrado en: {df_test_path}\")\n",
    "    df_test = pd.read_feather(df_test_path)\n",
    "except FileNotFoundError as e:\n",
    "    print(e)\n",
    "    exit(1)\n",
    "\n",
    "df_test_features, _ = feature_engineering(df_test, is_test=True)  # No necesita `passholder_type`\n",
    "\n",
    "# Guardar dataset de prueba\n",
    "test_processed_path = find_file(\"data\") / \"test_processed.feather\"\n",
    "df_test_features.to_feather(test_processed_path)\n",
    "\n",
    "print(f\"✅ Dataset de prueba procesado. Archivo guardado en: {test_processed_path}\")\n",
    "\n"
   ]
  },
  {
   "cell_type": "code",
   "execution_count": 5,
   "metadata": {},
   "outputs": [
    {
     "name": "stdout",
     "output_type": "stream",
     "text": [
      "¿El archivo existe? False\n",
      "Ruta absoluta: C:\\Users\\candy\\Downloads\\arkon_ds\\notebooks\\data\\df_clean.feather\n"
     ]
    }
   ],
   "source": [
    "from pathlib import Path\n",
    "\n",
    "file_path = Path(\"data/df_clean.feather\")\n",
    "print(\"¿El archivo existe?\", file_path.exists())\n",
    "print(\"Ruta absoluta:\", file_path.resolve())\n"
   ]
  },
  {
   "cell_type": "code",
   "execution_count": null,
   "metadata": {},
   "outputs": [],
   "source": []
  }
 ],
 "metadata": {
  "kernelspec": {
   "display_name": "Python 3",
   "language": "python",
   "name": "python3"
  },
  "language_info": {
   "codemirror_mode": {
    "name": "ipython",
    "version": 3
   },
   "file_extension": ".py",
   "mimetype": "text/x-python",
   "name": "python",
   "nbconvert_exporter": "python",
   "pygments_lexer": "ipython3",
   "version": "3.11.11"
  }
 },
 "nbformat": 4,
 "nbformat_minor": 2
}
