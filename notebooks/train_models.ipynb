{
 "cells": [
  {
   "cell_type": "code",
   "execution_count": 3,
   "metadata": {},
   "outputs": [
    {
     "ename": "FileNotFoundError",
     "evalue": "No se encontró el archivo df_clean.feather",
     "output_type": "error",
     "traceback": [
      "\u001b[1;31m---------------------------------------------------------------------------\u001b[0m",
      "\u001b[1;31mFileNotFoundError\u001b[0m                         Traceback (most recent call last)",
      "Cell \u001b[1;32mIn[3], line 50\u001b[0m\n\u001b[0;32m     47\u001b[0m     \u001b[38;5;28;01mreturn\u001b[39;00m df, label_encoders\n\u001b[0;32m     49\u001b[0m \u001b[38;5;66;03m# 🔹 Procesar el dataset de entrenamiento\u001b[39;00m\n\u001b[1;32m---> 50\u001b[0m df_clean \u001b[38;5;241m=\u001b[39m \u001b[43mload_clean_data\u001b[49m\u001b[43m(\u001b[49m\u001b[38;5;124;43m\"\u001b[39;49m\u001b[38;5;124;43mdf_clean.feather\u001b[39;49m\u001b[38;5;124;43m\"\u001b[39;49m\u001b[43m)\u001b[49m\n\u001b[0;32m     51\u001b[0m df_features, label_encoders \u001b[38;5;241m=\u001b[39m feature_engineering(df_clean)\n\u001b[0;32m     53\u001b[0m \u001b[38;5;66;03m# Separar variables predictoras (X) y variable objetivo (y)\u001b[39;00m\n",
      "Cell \u001b[1;32mIn[3], line 12\u001b[0m, in \u001b[0;36mload_clean_data\u001b[1;34m(file_name)\u001b[0m\n\u001b[0;32m     10\u001b[0m file_path \u001b[38;5;241m=\u001b[39m Path(\u001b[38;5;124m\"\u001b[39m\u001b[38;5;124mdata\u001b[39m\u001b[38;5;124m\"\u001b[39m) \u001b[38;5;241m/\u001b[39m file_name\n\u001b[0;32m     11\u001b[0m \u001b[38;5;28;01mif\u001b[39;00m \u001b[38;5;129;01mnot\u001b[39;00m file_path\u001b[38;5;241m.\u001b[39mexists():\n\u001b[1;32m---> 12\u001b[0m     \u001b[38;5;28;01mraise\u001b[39;00m \u001b[38;5;167;01mFileNotFoundError\u001b[39;00m(\u001b[38;5;124mf\u001b[39m\u001b[38;5;124m\"\u001b[39m\u001b[38;5;124mNo se encontró el archivo \u001b[39m\u001b[38;5;132;01m{\u001b[39;00mfile_name\u001b[38;5;132;01m}\u001b[39;00m\u001b[38;5;124m\"\u001b[39m)\n\u001b[0;32m     13\u001b[0m \u001b[38;5;28;01mreturn\u001b[39;00m pd\u001b[38;5;241m.\u001b[39mread_feather(file_path)\n",
      "\u001b[1;31mFileNotFoundError\u001b[0m: No se encontró el archivo df_clean.feather"
     ]
    }
   ],
   "source": [
    "import pandas as pd\n",
    "import numpy as np\n",
    "from pathlib import Path\n",
    "from sklearn.model_selection import train_test_split\n",
    "from sklearn.preprocessing import LabelEncoder\n",
    "\n",
    "# 🔹 Función para cargar el dataset limpio\n",
    "def load_clean_data(file_name):\n",
    "    \"\"\"Carga el dataset en formato Feather.\"\"\"\n",
    "    file_path = Path(\"data\") / file_name\n",
    "    if not file_path.exists():\n",
    "        raise FileNotFoundError(f\"No se encontró el archivo {file_name}\")\n",
    "    return pd.read_feather(file_path)\n",
    "\n",
    "# 🔹 Función de ingeniería de características\n",
    "def feature_engineering(df, is_test=False):\n",
    "    \"\"\"Genera características adicionales para el modelo.\"\"\"\n",
    "    \n",
    "    # Extraer día de la semana y hora del viaje\n",
    "    df[\"day_of_week\"] = df[\"start_time\"].dt.dayofweek  # Lunes=0, Domingo=6\n",
    "    df[\"hour\"] = df[\"start_time\"].dt.hour  # Hora del día\n",
    "    \n",
    "    # Marcar si es fin de semana\n",
    "    df[\"is_weekend\"] = df[\"day_of_week\"].isin([5, 6]).astype(int)\n",
    "    \n",
    "    # Categorizar duración del viaje\n",
    "    df[\"duration_category\"] = pd.cut(df[\"duration\"],\n",
    "                                     bins=[0, 5, 15, 30, 60, 120, 360],\n",
    "                                     labels=[\"0-5 min\", \"5-15 min\", \"15-30 min\", \"30-60 min\", \"60-120 min\", \"120+ min\"])\n",
    "    \n",
    "    # Eliminar columnas irrelevantes\n",
    "    df.drop(columns=[\"bike_id\", \"start_time\", \"end_time\"], inplace=True)\n",
    "\n",
    "    # Convertir variables categóricas a numéricas\n",
    "    categorical_cols = [\"trip_route_category\", \"start_station\", \"end_station\", \"duration_category\"]\n",
    "\n",
    "    if not is_test:\n",
    "        categorical_cols.append(\"passholder_type\")  # Solo en entrenamiento\n",
    "\n",
    "    label_encoders = {}  # Para almacenar los codificadores de etiquetas\n",
    "\n",
    "    for col in categorical_cols:\n",
    "        encoder = LabelEncoder()\n",
    "        df[col] = encoder.fit_transform(df[col].astype(str))\n",
    "        label_encoders[col] = encoder  # Guardamos los encoders para después\n",
    "\n",
    "    return df, label_encoders\n",
    "\n",
    "# 🔹 Procesar el dataset de entrenamiento\n",
    "df_clean = load_clean_data(\"df_clean.feather\")\n",
    "df_features, label_encoders = feature_engineering(df_clean)\n",
    "\n",
    "# Separar variables predictoras (X) y variable objetivo (y)\n",
    "X = df_features.drop(columns=[\"passholder_type\"])\n",
    "y = df_features[\"passholder_type\"]\n",
    "\n",
    "# Dividir en train y test\n",
    "X_train, X_test, y_train, y_test = train_test_split(X, y, test_size=0.2, random_state=42, stratify=y)\n",
    "\n",
    "# Guardar datasets procesados\n",
    "train_data = pd.concat([X_train, y_train], axis=1)\n",
    "test_data = pd.concat([X_test, y_test], axis=1)\n",
    "\n",
    "train_data.to_feather(\"data/train.feather\")\n",
    "test_data.to_feather(\"data/test.feather\")\n",
    "\n",
    "print(\"✅ Feature engineering completado. Archivos guardados: train.feather y test.feather\")\n",
    "\n",
    "# 🔹 Procesar el dataset de prueba (`df_clean_test.feather`)\n",
    "df_test = load_clean_data(\"df_clean_test.feather\")\n",
    "df_test_features, _ = feature_engineering(df_test, is_test=True)  # No necesita `passholder_type`\n",
    "\n",
    "# Guardar dataset de prueba\n",
    "df_test_features.to_feather(\"data/test_processed.feather\")\n",
    "print(\"✅ Dataset de prueba procesado. Archivo guardado: test_processed.feather\")\n"
   ]
  },
  {
   "cell_type": "code",
   "execution_count": null,
   "metadata": {},
   "outputs": [],
   "source": []
  }
 ],
 "metadata": {
  "kernelspec": {
   "display_name": "Python 3",
   "language": "python",
   "name": "python3"
  },
  "language_info": {
   "codemirror_mode": {
    "name": "ipython",
    "version": 3
   },
   "file_extension": ".py",
   "mimetype": "text/x-python",
   "name": "python",
   "nbconvert_exporter": "python",
   "pygments_lexer": "ipython3",
   "version": "3.11.11"
  }
 },
 "nbformat": 4,
 "nbformat_minor": 2
}
