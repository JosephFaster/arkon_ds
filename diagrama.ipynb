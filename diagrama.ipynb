{
 "cells": [
  {
   "cell_type": "code",
   "execution_count": 3,
   "metadata": {},
   "outputs": [
    {
     "name": "stdout",
     "output_type": "stream",
     "text": [
      " Diagrama de flujo generado: 'ml_pipeline_diagram.png'\n"
     ]
    }
   ],
   "source": [
    "from graphviz import Digraph\n",
    "\n",
    "def create_ml_pipeline_diagram():\n",
    "    dot = Digraph(format='png')\n",
    "    \n",
    "    # Nodos principales del flujo\n",
    "    dot.node('A', 'Carga de Datos\\n(train_set.csv, test_set.csv)', shape='parallelogram')\n",
    "    dot.node('B', 'Exploración de Datos\\n(EDA)', shape='box')\n",
    "    dot.node('C', 'Feature Engineering\\n(Transformaciones y Nuevas Variables)', shape='box')\n",
    "    dot.node('D', 'División de Datos\\n(Train, Validation, Test)', shape='box')\n",
    "    dot.node('E', 'Entrenamiento del Modelo\\n(LightGBM, XGBoost)', shape='box')\n",
    "    dot.node('F', 'Evaluación del Modelo\\n(Métricas y Comparación)', shape='box')\n",
    "    dot.node('G', 'Generación de Predicciones\\n(df_test)', shape='parallelogram')\n",
    "    dot.node('H', 'Guardar Predicciones\\n(submission_lightgbm.csv)', shape='parallelogram')\n",
    "    \n",
    "    # Nodos opcionales para producción\n",
    "    dot.node('I', 'Despliegue con API\\n(FastAPI/Flask)', shape='box', style='dashed')\n",
    "    dot.node('J', 'Empaquetado con Docker', shape='box', style='dashed')\n",
    "    dot.node('K', 'Despliegue en la Nube\\n(AWS/GCP/Azure)', shape='box', style='dashed')\n",
    "    \n",
    "    # Conexiones entre los pasos\n",
    "    dot.edge('A', 'B')\n",
    "    dot.edge('B', 'C')\n",
    "    dot.edge('C', 'D')\n",
    "    dot.edge('D', 'E')\n",
    "    dot.edge('E', 'F')\n",
    "    dot.edge('F', 'G')\n",
    "    dot.edge('G', 'H')\n",
    "    \n",
    "    # Conexiones para la puesta en producción (opcional)\n",
    "    dot.edge('F', 'I', style='dashed')\n",
    "    dot.edge('I', 'J', style='dashed')\n",
    "    dot.edge('J', 'K', style='dashed')\n",
    "    \n",
    "    # Guardar el archivo\n",
    "    dot.render('ml_pipeline_diagram', format='png', cleanup=False)\n",
    "    print(\" Diagrama de flujo generado: 'ml_pipeline_diagram.png'\")\n",
    "\n",
    "# Ejecutar la función para generar el diagrama\n",
    "create_ml_pipeline_diagram()\n"
   ]
  },
  {
   "cell_type": "code",
   "execution_count": null,
   "metadata": {},
   "outputs": [],
   "source": []
  }
 ],
 "metadata": {
  "kernelspec": {
   "display_name": "arkon_ds",
   "language": "python",
   "name": "python3"
  },
  "language_info": {
   "codemirror_mode": {
    "name": "ipython",
    "version": 3
   },
   "file_extension": ".py",
   "mimetype": "text/x-python",
   "name": "python",
   "nbconvert_exporter": "python",
   "pygments_lexer": "ipython3",
   "version": "3.11.11"
  }
 },
 "nbformat": 4,
 "nbformat_minor": 2
}
